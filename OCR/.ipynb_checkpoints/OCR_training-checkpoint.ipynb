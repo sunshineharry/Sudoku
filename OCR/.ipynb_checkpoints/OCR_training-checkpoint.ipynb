{
 "cells": [
  {
   "cell_type": "markdown",
   "metadata": {},
   "source": [
    "# 使用keras完成数字ocr模型的训练"
   ]
  },
  {
   "cell_type": "markdown",
   "metadata": {},
   "source": [
    "## 导入keras工具包"
   ]
  },
  {
   "cell_type": "markdown",
   "metadata": {},
   "source": [
    "- 版本信息：\n",
    "\n",
    "  python == 3.7\n",
    "\n",
    "  TensorFlow == 1.13.1\n",
    "\n",
    "  keras == 2.1.5"
   ]
  },
  {
   "cell_type": "code",
   "execution_count": 1,
   "metadata": {},
   "outputs": [
    {
     "name": "stderr",
     "output_type": "stream",
     "text": [
      "Using TensorFlow backend.\n"
     ]
    }
   ],
   "source": [
    "from keras.models import Sequential,load_model\n",
    "from keras.layers import Convolution2D,MaxPooling2D,Activation,Dropout,Flatten,Dense\n",
    "from keras.optimizers import Adam\n",
    "from keras.preprocessing.image import ImageDataGenerator,img_to_array,load_img"
   ]
  },
  {
   "cell_type": "markdown",
   "metadata": {},
   "source": [
    "## 读入数据"
   ]
  },
  {
   "cell_type": "markdown",
   "metadata": {},
   "source": [
    "考虑到原始数据较少，使用数据增强"
   ]
  },
  {
   "cell_type": "code",
   "execution_count": 2,
   "metadata": {},
   "outputs": [],
   "source": [
    "# 训练集数据增强\n",
    "train_datagen = ImageDataGenerator(\n",
    "#     rotation_range = 10,        # 随机旋转度数\n",
    "#     width_shift_range = 0.1,    # 随机水平平移\n",
    "#     height_shift_range = 0.1,   # 随机竖直平移\n",
    "    rescale = 1/255,            # 数据归一化\n",
    "#     shear_range = 10,           # 随机错切变换\n",
    "#     zoom_range = 0.1,           # 随机放大\n",
    "#     fill_mode = 'nearest',      # 填充方式\n",
    ") \n",
    "\n",
    "# 测试集数据增强\n",
    "test_datagen = ImageDataGenerator(\n",
    "    rescale = 1/255,         # 数据归一化\n",
    ") "
   ]
  },
  {
   "cell_type": "markdown",
   "metadata": {},
   "source": [
    "从文件读入数据\n"
   ]
  },
  {
   "cell_type": "code",
   "execution_count": 3,
   "metadata": {},
   "outputs": [
    {
     "name": "stdout",
     "output_type": "stream",
     "text": [
      "Found 1409 images belonging to 10 classes.\n",
      "Found 997 images belonging to 10 classes.\n"
     ]
    }
   ],
   "source": [
    "# 定义 batch size\n",
    "batch_size = 16\n",
    "\n",
    "# 生成训练数据\n",
    "train_generator = train_datagen.flow_from_directory(\n",
    "    'OCR_data/training',\n",
    "    target_size=(28,28),\n",
    "    color_mode='grayscale',\n",
    "    batch_size=batch_size,\n",
    "    )\n",
    "\n",
    "# 测试数据\n",
    "test_generator = test_datagen.flow_from_directory(\n",
    "    'OCR_data/testing',\n",
    "    target_size=(28,28),\n",
    "    color_mode='grayscale',\n",
    "    batch_size=batch_size,\n",
    "    )"
   ]
  },
  {
   "cell_type": "code",
   "execution_count": 4,
   "metadata": {},
   "outputs": [
    {
     "data": {
      "text/plain": [
       "{'0': 0,\n",
       " '1': 1,\n",
       " '2': 2,\n",
       " '3': 3,\n",
       " '4': 4,\n",
       " '5': 5,\n",
       " '6': 6,\n",
       " '7': 7,\n",
       " '8': 8,\n",
       " '9': 9}"
      ]
     },
     "execution_count": 4,
     "metadata": {},
     "output_type": "execute_result"
    }
   ],
   "source": [
    "train_generator.class_indices"
   ]
  },
  {
   "cell_type": "markdown",
   "metadata": {},
   "source": [
    "## 定义神经网络"
   ]
  },
  {
   "cell_type": "code",
   "execution_count": 5,
   "metadata": {},
   "outputs": [
    {
     "name": "stdout",
     "output_type": "stream",
     "text": [
      "WARNING:tensorflow:From C:\\Users\\Harry\\anaconda3\\lib\\site-packages\\tensorflow\\python\\framework\\op_def_library.py:263: colocate_with (from tensorflow.python.framework.ops) is deprecated and will be removed in a future version.\n",
      "Instructions for updating:\n",
      "Colocations handled automatically by placer.\n",
      "WARNING:tensorflow:From C:\\Users\\Harry\\anaconda3\\lib\\site-packages\\keras\\backend\\tensorflow_backend.py:3138: calling dropout (from tensorflow.python.ops.nn_ops) with keep_prob is deprecated and will be removed in a future version.\n",
      "Instructions for updating:\n",
      "Please use `rate` instead of `keep_prob`. Rate should be set to `rate = 1 - keep_prob`.\n"
     ]
    }
   ],
   "source": [
    "# 定义顺序模型\n",
    "model = Sequential()\n",
    "\n",
    "# 第一个卷积层：output 28*28*32\n",
    "# input_shape 输入平面\n",
    "# filters 卷积核/滤波器个数\n",
    "# kernel_size 卷积窗口大小\n",
    "# strides 步长\n",
    "# padding padding方式 same/valid\n",
    "# activation 激活函数\n",
    "model.add(Convolution2D(\n",
    "    input_shape = (28,28,1),\n",
    "    filters = 32,       # 卷积核的个数\n",
    "    kernel_size = 5,\n",
    "    strides = 1,\n",
    "    padding = 'same',\n",
    "    activation = 'relu'\n",
    "))\n",
    "# 第一个池化层：output 14*14*32\n",
    "model.add(MaxPooling2D(\n",
    "    pool_size = 2,\n",
    "    strides = 2,\n",
    "    padding = 'same',\n",
    "))\n",
    "# 第二个卷积层：output 14*14*64（每个卷积核对前面的32张特征图求一个新的卷积）\n",
    "model.add(Convolution2D(64,5,strides=1,padding='same',activation = 'relu'))\n",
    "# 第二个池化层：output 7*7*64\n",
    "model.add(MaxPooling2D(2,2,'same'))\n",
    "# 把第二个池化层的输出扁平化为1维：output：3316（一维向量）\n",
    "model.add(Flatten())\n",
    "# 第一个全连接层：output：1024（一维向量）\n",
    "model.add(Dense(1024,activation = 'relu'))\n",
    "# Dropout\n",
    "model.add(Dropout(0.5))\n",
    "# 第二个全连接层：output：10（一维向量）\n",
    "model.add(Dense(10,activation='softmax'))\n",
    "\n",
    "# 定义优化器\n",
    "adam = Adam(lr=1e-4)\n",
    "\n",
    "# 定义优化器，loss function，训练过程中计算准确率\n",
    "model.compile(optimizer=adam,loss='categorical_crossentropy',metrics=['accuracy'])"
   ]
  },
  {
   "cell_type": "markdown",
   "metadata": {},
   "source": [
    "## 训练模型并评估\n"
   ]
  },
  {
   "cell_type": "markdown",
   "metadata": {},
   "source": [
    "由于进行了数据增强，在训练集上准确率较低，但是，会提高在测试集上的准确性，增强模型鲁棒性"
   ]
  },
  {
   "cell_type": "code",
   "execution_count": 7,
   "metadata": {},
   "outputs": [
    {
     "name": "stdout",
     "output_type": "stream",
     "text": [
      "WARNING:tensorflow:From C:\\Users\\Harry\\anaconda3\\lib\\site-packages\\tensorflow\\python\\ops\\math_ops.py:3066: to_int32 (from tensorflow.python.ops.math_ops) is deprecated and will be removed in a future version.\n",
      "Instructions for updating:\n",
      "Use tf.cast instead.\n",
      "Epoch 1/30\n",
      "89/89 [==============================] - 8s 91ms/step - loss: 2.2583 - acc: 0.1727 - val_loss: 2.1213 - val_acc: 0.3821\n",
      "Epoch 2/30\n",
      "89/89 [==============================] - 7s 75ms/step - loss: 1.8768 - acc: 0.3932 - val_loss: 1.5423 - val_acc: 0.6259\n",
      "Epoch 3/30\n",
      "89/89 [==============================] - 7s 78ms/step - loss: 1.4315 - acc: 0.5296 - val_loss: 0.9861 - val_acc: 0.8837\n",
      "Epoch 4/30\n",
      "89/89 [==============================] - 7s 79ms/step - loss: 1.0525 - acc: 0.6418 - val_loss: 0.6971 - val_acc: 0.8405\n",
      "Epoch 5/30\n",
      "89/89 [==============================] - 7s 78ms/step - loss: 0.9259 - acc: 0.6890 - val_loss: 0.5467 - val_acc: 0.8495\n",
      "Epoch 6/30\n",
      "89/89 [==============================] - 7s 77ms/step - loss: 0.7265 - acc: 0.7654 - val_loss: 0.3751 - val_acc: 0.9408\n",
      "Epoch 7/30\n",
      "89/89 [==============================] - 7s 77ms/step - loss: 0.6666 - acc: 0.7950 - val_loss: 0.2881 - val_acc: 0.9549\n",
      "Epoch 8/30\n",
      "89/89 [==============================] - 7s 75ms/step - loss: 0.6233 - acc: 0.7887 - val_loss: 0.2372 - val_acc: 0.9799\n",
      "Epoch 9/30\n",
      "89/89 [==============================] - 7s 77ms/step - loss: 0.4637 - acc: 0.8637 - val_loss: 0.1810 - val_acc: 0.9759\n",
      "Epoch 10/30\n",
      "89/89 [==============================] - 7s 76ms/step - loss: 0.4640 - acc: 0.8630 - val_loss: 0.1588 - val_acc: 0.9840\n",
      "Epoch 11/30\n",
      "89/89 [==============================] - 7s 78ms/step - loss: 0.3902 - acc: 0.8820 - val_loss: 0.1248 - val_acc: 0.9920\n",
      "Epoch 12/30\n",
      "89/89 [==============================] - 7s 81ms/step - loss: 0.3308 - acc: 0.9080 - val_loss: 0.1055 - val_acc: 0.9930\n",
      "Epoch 13/30\n",
      "89/89 [==============================] - 7s 74ms/step - loss: 0.3113 - acc: 0.9004 - val_loss: 0.1169 - val_acc: 0.9699\n",
      "Epoch 14/30\n",
      "89/89 [==============================] - 7s 79ms/step - loss: 0.2775 - acc: 0.9227 - val_loss: 0.0745 - val_acc: 0.9970\n",
      "Epoch 15/30\n",
      "89/89 [==============================] - 7s 78ms/step - loss: 0.2142 - acc: 0.9424 - val_loss: 0.0599 - val_acc: 0.9960\n",
      "Epoch 16/30\n",
      "89/89 [==============================] - 7s 77ms/step - loss: 0.2123 - acc: 0.9487 - val_loss: 0.0534 - val_acc: 0.9980\n",
      "Epoch 17/30\n",
      "89/89 [==============================] - 7s 78ms/step - loss: 0.1896 - acc: 0.9515 - val_loss: 0.0494 - val_acc: 0.9990\n",
      "Epoch 18/30\n",
      "89/89 [==============================] - 7s 77ms/step - loss: 0.1830 - acc: 0.9536 - val_loss: 0.0437 - val_acc: 0.9990\n",
      "Epoch 19/30\n",
      "89/89 [==============================] - 7s 78ms/step - loss: 0.1647 - acc: 0.9586 - val_loss: 0.0373 - val_acc: 0.9980\n",
      "Epoch 20/30\n",
      "89/89 [==============================] - 7s 77ms/step - loss: 0.1398 - acc: 0.9656 - val_loss: 0.0322 - val_acc: 0.9970\n",
      "Epoch 21/30\n",
      "89/89 [==============================] - 7s 77ms/step - loss: 0.1253 - acc: 0.9740 - val_loss: 0.0291 - val_acc: 0.9980\n",
      "Epoch 22/30\n",
      "89/89 [==============================] - 7s 77ms/step - loss: 0.1307 - acc: 0.9649 - val_loss: 0.0280 - val_acc: 1.0000\n",
      "Epoch 23/30\n",
      "89/89 [==============================] - 7s 77ms/step - loss: 0.1165 - acc: 0.9712 - val_loss: 0.0242 - val_acc: 1.0000\n",
      "Epoch 24/30\n",
      "89/89 [==============================] - 7s 77ms/step - loss: 0.1201 - acc: 0.9719 - val_loss: 0.0231 - val_acc: 1.0000\n",
      "Epoch 25/30\n",
      "89/89 [==============================] - 7s 78ms/step - loss: 0.0940 - acc: 0.9782 - val_loss: 0.0187 - val_acc: 1.0000\n",
      "Epoch 26/30\n",
      "89/89 [==============================] - 7s 75ms/step - loss: 0.0909 - acc: 0.9796 - val_loss: 0.0178 - val_acc: 0.9980\n",
      "Epoch 27/30\n",
      "89/89 [==============================] - 7s 75ms/step - loss: 0.0747 - acc: 0.9831 - val_loss: 0.0205 - val_acc: 0.9940\n",
      "Epoch 28/30\n",
      "89/89 [==============================] - 7s 74ms/step - loss: 0.0974 - acc: 0.9754 - val_loss: 0.0163 - val_acc: 1.0000\n",
      "Epoch 29/30\n",
      "89/89 [==============================] - 7s 74ms/step - loss: 0.0695 - acc: 0.9845 - val_loss: 0.0133 - val_acc: 1.0000\n",
      "Epoch 30/30\n",
      "89/89 [==============================] - 7s 75ms/step - loss: 0.0637 - acc: 0.9860 - val_loss: 0.0149 - val_acc: 1.0000\n"
     ]
    },
    {
     "data": {
      "text/plain": [
       "<keras.callbacks.History at 0x1de189e5e88>"
      ]
     },
     "execution_count": 7,
     "metadata": {},
     "output_type": "execute_result"
    }
   ],
   "source": [
    "model.fit_generator(train_generator,steps_per_epoch=len(train_generator),epochs=15,validation_data=test_generator,validation_steps=len(test_generator))"
   ]
  },
  {
   "cell_type": "markdown",
   "metadata": {},
   "source": [
    "## 模型保存"
   ]
  },
  {
   "cell_type": "code",
   "execution_count": 8,
   "metadata": {},
   "outputs": [],
   "source": [
    "model.save('number_ocr.h5')"
   ]
  },
  {
   "cell_type": "code",
   "execution_count": 9,
   "metadata": {},
   "outputs": [
    {
     "name": "stdout",
     "output_type": "stream",
     "text": [
      "_________________________________________________________________\n",
      "Layer (type)                 Output Shape              Param #   \n",
      "=================================================================\n",
      "conv2d_1 (Conv2D)            (None, 28, 28, 32)        832       \n",
      "_________________________________________________________________\n",
      "max_pooling2d_1 (MaxPooling2 (None, 14, 14, 32)        0         \n",
      "_________________________________________________________________\n",
      "conv2d_2 (Conv2D)            (None, 14, 14, 64)        51264     \n",
      "_________________________________________________________________\n",
      "max_pooling2d_2 (MaxPooling2 (None, 7, 7, 64)          0         \n",
      "_________________________________________________________________\n",
      "flatten_1 (Flatten)          (None, 3136)              0         \n",
      "_________________________________________________________________\n",
      "dense_1 (Dense)              (None, 1024)              3212288   \n",
      "_________________________________________________________________\n",
      "dropout_1 (Dropout)          (None, 1024)              0         \n",
      "_________________________________________________________________\n",
      "dense_2 (Dense)              (None, 10)                10250     \n",
      "=================================================================\n",
      "Total params: 3,274,634\n",
      "Trainable params: 3,274,634\n",
      "Non-trainable params: 0\n",
      "_________________________________________________________________\n"
     ]
    }
   ],
   "source": [
    "model = load_model('number_ocr.h5')\n",
    "model.summary()"
   ]
  },
  {
   "cell_type": "code",
   "execution_count": null,
   "metadata": {},
   "outputs": [],
   "source": []
  }
 ],
 "metadata": {
  "kernelspec": {
   "display_name": "Python 3",
   "language": "python",
   "name": "python3"
  },
  "language_info": {
   "codemirror_mode": {
    "name": "ipython",
    "version": 3
   },
   "file_extension": ".py",
   "mimetype": "text/x-python",
   "name": "python",
   "nbconvert_exporter": "python",
   "pygments_lexer": "ipython3",
   "version": "3.7.6"
  }
 },
 "nbformat": 4,
 "nbformat_minor": 4
}
