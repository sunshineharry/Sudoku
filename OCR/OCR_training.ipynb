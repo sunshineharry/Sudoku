{
 "metadata": {
  "language_info": {
   "codemirror_mode": {
    "name": "ipython",
    "version": 3
   },
   "file_extension": ".py",
   "mimetype": "text/x-python",
   "name": "python",
   "nbconvert_exporter": "python",
   "pygments_lexer": "ipython3",
   "version": "3.7.6-final"
  },
  "orig_nbformat": 2,
  "kernelspec": {
   "name": "python3",
   "display_name": "Python 3",
   "language": "python"
  }
 },
 "nbformat": 4,
 "nbformat_minor": 2,
 "cells": [
  {
   "source": [
    "# 使用keras完成数字ocr模型的训练"
   ],
   "cell_type": "markdown",
   "metadata": {}
  },
  {
   "source": [
    "## 导入keras工具包"
   ],
   "cell_type": "markdown",
   "metadata": {}
  },
  {
   "source": [
    "- 版本信息：\n",
    "\n",
    "  python == 3.7\n",
    "\n",
    "  TensorFlow == 1.13.1\n",
    "\n",
    "  keras == 2.1.5"
   ],
   "cell_type": "markdown",
   "metadata": {}
  },
  {
   "cell_type": "code",
   "execution_count": 1,
   "metadata": {},
   "outputs": [
    {
     "output_type": "stream",
     "name": "stderr",
     "text": [
      "Using TensorFlow backend.\n"
     ]
    }
   ],
   "source": [
    "from keras.models import Sequential\n",
    "from keras.layers import Convolution2D,MaxPooling2D,Activation,Dropout,Flatten,Dense\n",
    "from keras.optimizers import Adam\n",
    "from keras.preprocessing.image import ImageDataGenerator,img_to_array,load_img"
   ]
  },
  {
   "source": [
    "## 读入数据"
   ],
   "cell_type": "markdown",
   "metadata": {}
  },
  {
   "source": [
    "考虑到原始数据较少，使用数据增强"
   ],
   "cell_type": "markdown",
   "metadata": {}
  },
  {
   "cell_type": "code",
   "execution_count": 2,
   "metadata": {},
   "outputs": [],
   "source": [
    "# 训练集数据增强\n",
    "train_datagen = ImageDataGenerator(\n",
    "    rotation_range = 10,        # 随机旋转度数\n",
    "    width_shift_range = 0.1,    # 随机水平平移\n",
    "    height_shift_range = 0.1,   # 随机竖直平移\n",
    "    rescale = 1/255,            # 数据归一化\n",
    "    shear_range = 10,           # 随机错切变换\n",
    "    zoom_range = 0.1,           # 随机放大\n",
    "    fill_mode = 'nearest',      # 填充方式\n",
    ") \n",
    "\n",
    "# 测试集数据增强\n",
    "test_datagen = ImageDataGenerator(\n",
    "    rescale = 1/255,         # 数据归一化\n",
    ") "
   ]
  },
  {
   "source": [
    "从文件读入数据\n"
   ],
   "cell_type": "markdown",
   "metadata": {}
  },
  {
   "cell_type": "code",
   "execution_count": 3,
   "metadata": {},
   "outputs": [
    {
     "output_type": "stream",
     "name": "stdout",
     "text": [
      "Found 1409 images belonging to 10 classes.\nFound 997 images belonging to 10 classes.\n"
     ]
    }
   ],
   "source": [
    "# 定义 batch size\n",
    "batch_size = 16\n",
    "\n",
    "# 生成训练数据\n",
    "train_generator = train_datagen.flow_from_directory(\n",
    "    'ocr_data/training',\n",
    "    target_size=(28,28),\n",
    "    color_mode='grayscale',\n",
    "    batch_size=batch_size,\n",
    "    )\n",
    "\n",
    "# 测试数据\n",
    "test_generator = test_datagen.flow_from_directory(\n",
    "    'ocr_data/testing',\n",
    "    target_size=(28,28),\n",
    "    color_mode='grayscale',\n",
    "    batch_size=batch_size,\n",
    "    )"
   ]
  },
  {
   "cell_type": "code",
   "execution_count": 4,
   "metadata": {},
   "outputs": [
    {
     "output_type": "execute_result",
     "data": {
      "text/plain": [
       "{'0': 0,\n",
       " '1': 1,\n",
       " '2': 2,\n",
       " '3': 3,\n",
       " '4': 4,\n",
       " '5': 5,\n",
       " '6': 6,\n",
       " '7': 7,\n",
       " '8': 8,\n",
       " '9': 9}"
      ]
     },
     "metadata": {},
     "execution_count": 4
    }
   ],
   "source": [
    "train_generator.class_indices"
   ]
  },
  {
   "source": [
    "## 定义神经网络"
   ],
   "cell_type": "markdown",
   "metadata": {}
  },
  {
   "cell_type": "code",
   "execution_count": 5,
   "metadata": {},
   "outputs": [
    {
     "output_type": "stream",
     "name": "stdout",
     "text": [
      "WARNING:tensorflow:From C:\\Users\\Harry\\anaconda3\\lib\\site-packages\\tensorflow\\python\\framework\\op_def_library.py:263: colocate_with (from tensorflow.python.framework.ops) is deprecated and will be removed in a future version.\n",
      "Instructions for updating:\n",
      "Colocations handled automatically by placer.\n",
      "WARNING:tensorflow:From C:\\Users\\Harry\\anaconda3\\lib\\site-packages\\keras\\backend\\tensorflow_backend.py:3138: calling dropout (from tensorflow.python.ops.nn_ops) with keep_prob is deprecated and will be removed in a future version.\n",
      "Instructions for updating:\n",
      "Please use `rate` instead of `keep_prob`. Rate should be set to `rate = 1 - keep_prob`.\n"
     ]
    }
   ],
   "source": [
    "# 定义顺序模型\n",
    "model = Sequential()\n",
    "\n",
    "# 第一个卷积层：output 28*28*32\n",
    "# input_shape 输入平面\n",
    "# filters 卷积核/滤波器个数\n",
    "# kernel_size 卷积窗口大小\n",
    "# strides 步长\n",
    "# padding padding方式 same/valid\n",
    "# activation 激活函数\n",
    "model.add(Convolution2D(\n",
    "    input_shape = (28,28,1),\n",
    "    filters = 32,       # 卷积核的个数\n",
    "    kernel_size = 5,\n",
    "    strides = 1,\n",
    "    padding = 'same',\n",
    "    activation = 'relu'\n",
    "))\n",
    "# 第一个池化层：output 14*14*32\n",
    "model.add(MaxPooling2D(\n",
    "    pool_size = 2,\n",
    "    strides = 2,\n",
    "    padding = 'same',\n",
    "))\n",
    "# 第二个卷积层：output 14*14*64（每个卷积核对前面的32张特征图求一个新的卷积）\n",
    "model.add(Convolution2D(64,5,strides=1,padding='same',activation = 'relu'))\n",
    "# 第二个池化层：output 7*7*64\n",
    "model.add(MaxPooling2D(2,2,'same'))\n",
    "# 把第二个池化层的输出扁平化为1维：output：3316（一维向量）\n",
    "model.add(Flatten())\n",
    "# 第一个全连接层：output：1024（一维向量）\n",
    "model.add(Dense(1024,activation = 'relu'))\n",
    "# Dropout\n",
    "model.add(Dropout(0.5))\n",
    "# 第二个全连接层：output：10（一维向量）\n",
    "model.add(Dense(10,activation='softmax'))\n",
    "\n",
    "# 定义优化器\n",
    "adam = Adam(lr=1e-4)\n",
    "\n",
    "# 定义优化器，loss function，训练过程中计算准确率\n",
    "model.compile(optimizer=adam,loss='categorical_crossentropy',metrics=['accuracy'])"
   ]
  },
  {
   "source": [
    "## 训练模型并评估\n"
   ],
   "cell_type": "markdown",
   "metadata": {}
  },
  {
   "cell_type": "code",
   "execution_count": 6,
   "metadata": {},
   "outputs": [
    {
     "output_type": "stream",
     "name": "stdout",
     "text": [
      "WARNING:tensorflow:From C:\\Users\\Harry\\anaconda3\\lib\\site-packages\\tensorflow\\python\\ops\\math_ops.py:3066: to_int32 (from tensorflow.python.ops.math_ops) is deprecated and will be removed in a future version.\n",
      "Instructions for updating:\n",
      "Use tf.cast instead.\n",
      "Epoch 1/18\n",
      "89/89 [==============================] - 8s 90ms/step - loss: 2.2912 - acc: 0.1334 - val_loss: 2.2357 - val_acc: 0.1494\n",
      "Epoch 2/18\n",
      "89/89 [==============================] - 7s 82ms/step - loss: 2.1821 - acc: 0.2430 - val_loss: 2.1037 - val_acc: 0.4614\n",
      "Epoch 3/18\n",
      "89/89 [==============================] - 7s 82ms/step - loss: 1.8961 - acc: 0.3342 - val_loss: 1.7812 - val_acc: 0.3761\n",
      "Epoch 4/18\n",
      "89/89 [==============================] - 7s 83ms/step - loss: 1.7023 - acc: 0.3989 - val_loss: 1.5621 - val_acc: 0.5627\n",
      "Epoch 5/18\n",
      "89/89 [==============================] - 7s 81ms/step - loss: 1.4700 - acc: 0.4985 - val_loss: 1.2267 - val_acc: 0.8034\n",
      "Epoch 6/18\n",
      "89/89 [==============================] - 7s 81ms/step - loss: 1.2804 - acc: 0.5568 - val_loss: 0.9859 - val_acc: 0.8315\n",
      "Epoch 7/18\n",
      "89/89 [==============================] - 7s 81ms/step - loss: 1.1685 - acc: 0.6068 - val_loss: 0.8581 - val_acc: 0.8445\n",
      "Epoch 8/18\n",
      "89/89 [==============================] - 7s 81ms/step - loss: 1.0076 - acc: 0.6650 - val_loss: 0.6866 - val_acc: 0.8646\n",
      "Epoch 9/18\n",
      "89/89 [==============================] - 7s 80ms/step - loss: 0.9211 - acc: 0.7050 - val_loss: 0.6037 - val_acc: 0.8857\n",
      "Epoch 10/18\n",
      "89/89 [==============================] - 7s 80ms/step - loss: 0.8481 - acc: 0.7079 - val_loss: 0.5062 - val_acc: 0.8917\n",
      "Epoch 11/18\n",
      "89/89 [==============================] - 7s 80ms/step - loss: 0.7334 - acc: 0.7710 - val_loss: 0.4503 - val_acc: 0.9157\n",
      "Epoch 12/18\n",
      "89/89 [==============================] - 7s 84ms/step - loss: 0.6851 - acc: 0.7838 - val_loss: 0.3449 - val_acc: 0.9519\n",
      "Epoch 13/18\n",
      "89/89 [==============================] - 8s 84ms/step - loss: 0.5695 - acc: 0.8343 - val_loss: 0.2840 - val_acc: 0.9448\n",
      "Epoch 14/18\n",
      "89/89 [==============================] - 7s 83ms/step - loss: 0.5247 - acc: 0.8553 - val_loss: 0.2371 - val_acc: 0.9629\n",
      "Epoch 15/18\n",
      "89/89 [==============================] - 7s 84ms/step - loss: 0.4761 - acc: 0.8560 - val_loss: 0.2309 - val_acc: 0.9739\n",
      "Epoch 16/18\n",
      "89/89 [==============================] - 7s 81ms/step - loss: 0.4130 - acc: 0.8785 - val_loss: 0.1718 - val_acc: 0.9789\n",
      "Epoch 17/18\n",
      "89/89 [==============================] - 7s 82ms/step - loss: 0.3813 - acc: 0.8954 - val_loss: 0.1601 - val_acc: 0.9809\n",
      "Epoch 18/18\n",
      "89/89 [==============================] - 7s 82ms/step - loss: 0.3670 - acc: 0.8996 - val_loss: 0.1207 - val_acc: 0.9910\n"
     ]
    },
    {
     "output_type": "execute_result",
     "data": {
      "text/plain": [
       "<keras.callbacks.History at 0x19fd11c2088>"
      ]
     },
     "metadata": {},
     "execution_count": 6
    }
   ],
   "source": [
    "model.fit_generator(train_generator,steps_per_epoch=len(train_generator),epochs=18,validation_data=test_generator,validation_steps=len(test_generator))"
   ]
  },
  {
   "source": [
    "## 模型保存"
   ],
   "cell_type": "markdown",
   "metadata": {}
  },
  {
   "cell_type": "code",
   "execution_count": 7,
   "metadata": {},
   "outputs": [],
   "source": [
    "model.save('number_ocr.h5')"
   ]
  }
 ]
}