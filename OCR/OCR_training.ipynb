{
 "cells": [
  {
   "cell_type": "markdown",
   "metadata": {},
   "source": [
    "# 使用keras完成数字ocr模型的训练"
   ]
  },
  {
   "cell_type": "markdown",
   "metadata": {},
   "source": [
    "## 导入keras工具包"
   ]
  },
  {
   "cell_type": "markdown",
   "metadata": {},
   "source": [
    "- 版本信息：\n",
    "\n",
    "  python == 3.7\n",
    "\n",
    "  TensorFlow == 1.13.1\n",
    "\n",
    "  keras == 2.1.5"
   ]
  },
  {
   "cell_type": "code",
   "execution_count": 18,
   "metadata": {},
   "outputs": [],
   "source": [
    "from keras.models import Sequential,load_model\n",
    "from keras.layers import Convolution2D,MaxPooling2D,Activation,Dropout,Flatten,Dense\n",
    "from keras.optimizers import Adam\n",
    "from keras.preprocessing.image import ImageDataGenerator,img_to_array,load_img"
   ]
  },
  {
   "cell_type": "markdown",
   "metadata": {},
   "source": [
    "## 读入数据"
   ]
  },
  {
   "cell_type": "markdown",
   "metadata": {},
   "source": [
    "考虑到原始数据较少，使用数据增强"
   ]
  },
  {
   "cell_type": "code",
   "execution_count": 21,
   "metadata": {},
   "outputs": [],
   "source": [
    "# 训练集数据增强\n",
    "train_datagen = ImageDataGenerator(\n",
    "#     rotation_range = 10,        # 随机旋转度数\n",
    "#     width_shift_range = 0.1,    # 随机水平平移\n",
    "#     height_shift_range = 0.1,   # 随机竖直平移\n",
    "    rescale = 1/255,            # 数据归一化\n",
    "#     shear_range = 10,           # 随机错切变换\n",
    "#     zoom_range = 0.1,           # 随机放大\n",
    "#     fill_mode = 'nearest',      # 填充方式\n",
    ") \n",
    "\n",
    "# 测试集数据增强\n",
    "test_datagen = ImageDataGenerator(\n",
    "    rescale = 1/255,         # 数据归一化\n",
    ") "
   ]
  },
  {
   "cell_type": "markdown",
   "metadata": {},
   "source": [
    "从文件读入数据\n"
   ]
  },
  {
   "cell_type": "code",
   "execution_count": 22,
   "metadata": {},
   "outputs": [
    {
     "name": "stdout",
     "output_type": "stream",
     "text": [
      "Found 2296 images belonging to 10 classes.\n",
      "Found 339 images belonging to 10 classes.\n"
     ]
    }
   ],
   "source": [
    "# 定义 batch size\n",
    "batch_size = 16\n",
    "\n",
    "# 生成训练数据\n",
    "train_generator = train_datagen.flow_from_directory(\n",
    "    'OCR_data/training',\n",
    "    target_size=(28,28),\n",
    "    color_mode='grayscale',\n",
    "    batch_size=batch_size,\n",
    "    )\n",
    "\n",
    "# 测试数据\n",
    "test_generator = test_datagen.flow_from_directory(\n",
    "    'OCR_data/testing',\n",
    "    target_size=(28,28),\n",
    "    color_mode='grayscale',\n",
    "    batch_size=batch_size,\n",
    "    )"
   ]
  },
  {
   "cell_type": "code",
   "execution_count": 23,
   "metadata": {},
   "outputs": [
    {
     "data": {
      "text/plain": [
       "{'0': 0,\n",
       " '1': 1,\n",
       " '2': 2,\n",
       " '3': 3,\n",
       " '4': 4,\n",
       " '5': 5,\n",
       " '6': 6,\n",
       " '7': 7,\n",
       " '8': 8,\n",
       " '9': 9}"
      ]
     },
     "execution_count": 23,
     "metadata": {},
     "output_type": "execute_result"
    }
   ],
   "source": [
    "train_generator.class_indices"
   ]
  },
  {
   "cell_type": "markdown",
   "metadata": {},
   "source": [
    "## 定义神经网络"
   ]
  },
  {
   "cell_type": "code",
   "execution_count": 24,
   "metadata": {},
   "outputs": [],
   "source": [
    "# 定义顺序模型\n",
    "model = Sequential()\n",
    "\n",
    "# 第一个卷积层：output 28*28*32\n",
    "# input_shape 输入平面\n",
    "# filters 卷积核/滤波器个数\n",
    "# kernel_size 卷积窗口大小\n",
    "# strides 步长\n",
    "# padding padding方式 same/valid\n",
    "# activation 激活函数\n",
    "model.add(Convolution2D(\n",
    "    input_shape = (28,28,1),\n",
    "    filters = 32,       # 卷积核的个数\n",
    "    kernel_size = 5,\n",
    "    strides = 1,\n",
    "    padding = 'same',\n",
    "    activation = 'relu'\n",
    "))\n",
    "# 第一个池化层：output 14*14*32\n",
    "model.add(MaxPooling2D(\n",
    "    pool_size = 2,\n",
    "    strides = 2,\n",
    "    padding = 'same',\n",
    "))\n",
    "# 第二个卷积层：output 14*14*64（每个卷积核对前面的32张特征图求一个新的卷积）\n",
    "model.add(Convolution2D(64,5,strides=1,padding='same',activation = 'relu'))\n",
    "# 第二个池化层：output 7*7*64\n",
    "model.add(MaxPooling2D(2,2,'same'))\n",
    "# 把第二个池化层的输出扁平化为1维：output：3316（一维向量）\n",
    "model.add(Flatten())\n",
    "# 第一个全连接层：output：1024（一维向量）\n",
    "model.add(Dense(1024,activation = 'relu'))\n",
    "# Dropout\n",
    "model.add(Dropout(0.5))\n",
    "# 第二个全连接层：output：10（一维向量）\n",
    "model.add(Dense(10,activation='softmax'))\n",
    "\n",
    "# 定义优化器\n",
    "adam = Adam(lr=1e-4)\n",
    "\n",
    "# 定义优化器，loss function，训练过程中计算准确率\n",
    "model.compile(optimizer=adam,loss='categorical_crossentropy',metrics=['accuracy'])"
   ]
  },
  {
   "cell_type": "markdown",
   "metadata": {},
   "source": [
    "## 训练模型并评估\n"
   ]
  },
  {
   "cell_type": "markdown",
   "metadata": {},
   "source": [
    "由于进行了数据增强，在训练集上准确率较低，但是，会提高在测试集上的准确性，增强模型鲁棒性"
   ]
  },
  {
   "cell_type": "code",
   "execution_count": 25,
   "metadata": {},
   "outputs": [
    {
     "name": "stdout",
     "output_type": "stream",
     "text": [
      "Epoch 1/50\n",
      "144/144 [==============================] - 11s 77ms/step - loss: 2.1144 - acc: 0.2695 - val_loss: 1.7673 - val_acc: 0.3422\n",
      "Epoch 2/50\n",
      "144/144 [==============================] - 10s 70ms/step - loss: 1.5090 - acc: 0.4987 - val_loss: 0.9833 - val_acc: 0.8319\n",
      "Epoch 3/50\n",
      "144/144 [==============================] - 10s 71ms/step - loss: 1.1189 - acc: 0.6363 - val_loss: 0.5699 - val_acc: 0.9381\n",
      "Epoch 4/50\n",
      "144/144 [==============================] - 11s 73ms/step - loss: 0.8813 - acc: 0.7153 - val_loss: 0.3622 - val_acc: 0.9558\n",
      "Epoch 5/50\n",
      "144/144 [==============================] - 11s 74ms/step - loss: 0.7067 - acc: 0.7786 - val_loss: 0.2311 - val_acc: 0.9676\n",
      "Epoch 6/50\n",
      "144/144 [==============================] - 12s 81ms/step - loss: 0.5603 - acc: 0.8303 - val_loss: 0.1805 - val_acc: 0.9676\n",
      "Epoch 7/50\n",
      "144/144 [==============================] - 12s 80ms/step - loss: 0.4327 - acc: 0.8737 - val_loss: 0.1221 - val_acc: 0.9823\n",
      "Epoch 8/50\n",
      "144/144 [==============================] - 10s 71ms/step - loss: 0.3704 - acc: 0.8971 - val_loss: 0.0863 - val_acc: 0.9941\n",
      "Epoch 9/50\n",
      "144/144 [==============================] - 11s 74ms/step - loss: 0.3079 - acc: 0.9219 - val_loss: 0.0646 - val_acc: 0.9941\n",
      "Epoch 10/50\n",
      "144/144 [==============================] - 10s 72ms/step - loss: 0.2365 - acc: 0.9345 - val_loss: 0.0488 - val_acc: 0.9971\n",
      "Epoch 11/50\n",
      "144/144 [==============================] - 11s 73ms/step - loss: 0.2202 - acc: 0.9431 - val_loss: 0.0543 - val_acc: 0.9941\n",
      "Epoch 12/50\n",
      "144/144 [==============================] - 11s 74ms/step - loss: 0.2055 - acc: 0.9423 - val_loss: 0.0392 - val_acc: 0.9941\n",
      "Epoch 13/50\n",
      "144/144 [==============================] - 11s 74ms/step - loss: 0.1629 - acc: 0.9592 - val_loss: 0.0298 - val_acc: 0.9941\n",
      "Epoch 14/50\n",
      "144/144 [==============================] - 11s 73ms/step - loss: 0.1355 - acc: 0.9670 - val_loss: 0.0271 - val_acc: 0.9941\n",
      "Epoch 15/50\n",
      "144/144 [==============================] - 11s 73ms/step - loss: 0.1366 - acc: 0.9635 - val_loss: 0.0202 - val_acc: 1.0000\n",
      "Epoch 16/50\n",
      "144/144 [==============================] - 11s 73ms/step - loss: 0.1295 - acc: 0.9670 - val_loss: 0.0183 - val_acc: 1.0000\n",
      "Epoch 17/50\n",
      "144/144 [==============================] - 10s 73ms/step - loss: 0.0970 - acc: 0.9757 - val_loss: 0.0182 - val_acc: 0.9971\n",
      "Epoch 18/50\n",
      "144/144 [==============================] - 10s 72ms/step - loss: 0.1004 - acc: 0.9757 - val_loss: 0.0155 - val_acc: 1.0000\n",
      "Epoch 19/50\n",
      "144/144 [==============================] - 10s 73ms/step - loss: 0.0842 - acc: 0.9805 - val_loss: 0.0114 - val_acc: 1.0000\n",
      "Epoch 20/50\n",
      "144/144 [==============================] - 10s 72ms/step - loss: 0.0774 - acc: 0.9796 - val_loss: 0.0120 - val_acc: 1.0000\n",
      "Epoch 21/50\n",
      "144/144 [==============================] - 10s 71ms/step - loss: 0.0587 - acc: 0.9887 - val_loss: 0.0126 - val_acc: 1.0000\n",
      "Epoch 22/50\n",
      "144/144 [==============================] - 11s 75ms/step - loss: 0.0777 - acc: 0.9766 - val_loss: 0.0089 - val_acc: 1.0000\n",
      "Epoch 23/50\n",
      "144/144 [==============================] - 10s 73ms/step - loss: 0.0658 - acc: 0.9848 - val_loss: 0.0092 - val_acc: 1.0000\n",
      "Epoch 24/50\n",
      "144/144 [==============================] - 11s 73ms/step - loss: 0.0553 - acc: 0.9878 - val_loss: 0.0075 - val_acc: 1.0000\n",
      "Epoch 25/50\n",
      "144/144 [==============================] - 11s 73ms/step - loss: 0.0440 - acc: 0.9913 - val_loss: 0.0061 - val_acc: 1.0000\n",
      "Epoch 26/50\n",
      "144/144 [==============================] - 10s 73ms/step - loss: 0.0462 - acc: 0.9874 - val_loss: 0.0070 - val_acc: 1.0000\n",
      "Epoch 27/50\n",
      "144/144 [==============================] - 11s 74ms/step - loss: 0.0437 - acc: 0.9913 - val_loss: 0.0058 - val_acc: 1.0000\n",
      "Epoch 28/50\n",
      "144/144 [==============================] - 11s 78ms/step - loss: 0.0470 - acc: 0.9891 - val_loss: 0.0100 - val_acc: 1.0000\n",
      "Epoch 29/50\n",
      "144/144 [==============================] - 11s 78ms/step - loss: 0.0390 - acc: 0.9909 - val_loss: 0.0046 - val_acc: 1.0000\n",
      "Epoch 30/50\n",
      "144/144 [==============================] - 11s 79ms/step - loss: 0.0423 - acc: 0.9900 - val_loss: 0.0046 - val_acc: 1.0000\n",
      "Epoch 31/50\n",
      "144/144 [==============================] - 11s 76ms/step - loss: 0.0405 - acc: 0.9900 - val_loss: 0.0049 - val_acc: 1.0000\n",
      "Epoch 32/50\n",
      "144/144 [==============================] - 10s 71ms/step - loss: 0.0399 - acc: 0.9891 - val_loss: 0.0069 - val_acc: 1.0000\n",
      "Epoch 33/50\n",
      "144/144 [==============================] - 11s 75ms/step - loss: 0.0378 - acc: 0.9918 - val_loss: 0.0056 - val_acc: 1.0000\n",
      "Epoch 34/50\n",
      "144/144 [==============================] - 10s 72ms/step - loss: 0.0338 - acc: 0.9913 - val_loss: 0.0039 - val_acc: 1.0000\n",
      "Epoch 35/50\n",
      "144/144 [==============================] - 10s 71ms/step - loss: 0.0314 - acc: 0.9922 - val_loss: 0.0032 - val_acc: 1.0000\n",
      "Epoch 36/50\n",
      "144/144 [==============================] - 10s 72ms/step - loss: 0.0229 - acc: 0.9948 - val_loss: 0.0028 - val_acc: 1.0000\n",
      "Epoch 37/50\n",
      "144/144 [==============================] - 10s 71ms/step - loss: 0.0353 - acc: 0.9891 - val_loss: 0.0048 - val_acc: 1.0000\n",
      "Epoch 38/50\n",
      "144/144 [==============================] - 10s 71ms/step - loss: 0.0228 - acc: 0.9961 - val_loss: 0.0034 - val_acc: 1.0000\n",
      "Epoch 39/50\n",
      "144/144 [==============================] - 10s 71ms/step - loss: 0.0242 - acc: 0.9935 - val_loss: 0.0029 - val_acc: 1.0000\n",
      "Epoch 40/50\n",
      "144/144 [==============================] - 10s 72ms/step - loss: 0.0199 - acc: 0.9957 - val_loss: 0.0025 - val_acc: 1.0000\n",
      "Epoch 41/50\n",
      "144/144 [==============================] - 11s 73ms/step - loss: 0.0185 - acc: 0.9974 - val_loss: 0.0017 - val_acc: 1.0000\n",
      "Epoch 42/50\n",
      "144/144 [==============================] - 10s 72ms/step - loss: 0.0244 - acc: 0.9948 - val_loss: 0.0023 - val_acc: 1.0000\n",
      "Epoch 43/50\n",
      "144/144 [==============================] - 10s 72ms/step - loss: 0.0210 - acc: 0.9957 - val_loss: 0.0027 - val_acc: 1.0000\n",
      "Epoch 44/50\n",
      "144/144 [==============================] - 11s 75ms/step - loss: 0.0221 - acc: 0.9935 - val_loss: 0.0025 - val_acc: 1.0000\n",
      "Epoch 45/50\n",
      "144/144 [==============================] - 11s 73ms/step - loss: 0.0172 - acc: 0.9961 - val_loss: 0.0017 - val_acc: 1.0000\n",
      "Epoch 46/50\n",
      "144/144 [==============================] - 10s 72ms/step - loss: 0.0165 - acc: 0.9965 - val_loss: 0.0017 - val_acc: 1.0000\n",
      "Epoch 47/50\n",
      "144/144 [==============================] - 10s 72ms/step - loss: 0.0254 - acc: 0.9926 - val_loss: 0.0033 - val_acc: 1.0000\n",
      "Epoch 48/50\n",
      "144/144 [==============================] - 10s 72ms/step - loss: 0.0176 - acc: 0.9952 - val_loss: 0.0018 - val_acc: 1.0000\n",
      "Epoch 49/50\n",
      "144/144 [==============================] - 10s 73ms/step - loss: 0.0235 - acc: 0.9939 - val_loss: 0.0022 - val_acc: 1.0000\n",
      "Epoch 50/50\n",
      "144/144 [==============================] - 10s 72ms/step - loss: 0.0144 - acc: 0.9978 - val_loss: 0.0012 - val_acc: 1.0000\n"
     ]
    },
    {
     "data": {
      "text/plain": [
       "<keras.callbacks.History at 0x1de28eddb48>"
      ]
     },
     "execution_count": 25,
     "metadata": {},
     "output_type": "execute_result"
    }
   ],
   "source": [
    "model.fit_generator(train_generator,steps_per_epoch=len(train_generator),epochs=50,validation_data=test_generator,validation_steps=len(test_generator))"
   ]
  },
  {
   "cell_type": "markdown",
   "metadata": {},
   "source": [
    "## 模型保存"
   ]
  },
  {
   "cell_type": "code",
   "execution_count": 26,
   "metadata": {},
   "outputs": [],
   "source": [
    "model.save('number_ocr.h5')"
   ]
  },
  {
   "cell_type": "code",
   "execution_count": 17,
   "metadata": {},
   "outputs": [
    {
     "name": "stdout",
     "output_type": "stream",
     "text": [
      "_________________________________________________________________\n",
      "Layer (type)                 Output Shape              Param #   \n",
      "=================================================================\n",
      "conv2d_3 (Conv2D)            (None, 28, 28, 32)        832       \n",
      "_________________________________________________________________\n",
      "max_pooling2d_3 (MaxPooling2 (None, 14, 14, 32)        0         \n",
      "_________________________________________________________________\n",
      "conv2d_4 (Conv2D)            (None, 14, 14, 64)        51264     \n",
      "_________________________________________________________________\n",
      "max_pooling2d_4 (MaxPooling2 (None, 7, 7, 64)          0         \n",
      "_________________________________________________________________\n",
      "flatten_2 (Flatten)          (None, 3136)              0         \n",
      "_________________________________________________________________\n",
      "dense_3 (Dense)              (None, 1024)              3212288   \n",
      "_________________________________________________________________\n",
      "dropout_2 (Dropout)          (None, 1024)              0         \n",
      "_________________________________________________________________\n",
      "dense_4 (Dense)              (None, 10)                10250     \n",
      "=================================================================\n",
      "Total params: 3,274,634\n",
      "Trainable params: 3,274,634\n",
      "Non-trainable params: 0\n",
      "_________________________________________________________________\n"
     ]
    }
   ],
   "source": [
    "model = load_model('number_ocr.h5')\n",
    "model.summary()"
   ]
  },
  {
   "cell_type": "code",
   "execution_count": null,
   "metadata": {},
   "outputs": [],
   "source": []
  }
 ],
 "metadata": {
  "kernelspec": {
   "display_name": "Python 3",
   "language": "python",
   "name": "python3"
  },
  "language_info": {
   "codemirror_mode": {
    "name": "ipython",
    "version": 3
   },
   "file_extension": ".py",
   "mimetype": "text/x-python",
   "name": "python",
   "nbconvert_exporter": "python",
   "pygments_lexer": "ipython3",
   "version": "3.7.6"
  }
 },
 "nbformat": 4,
 "nbformat_minor": 4
}
