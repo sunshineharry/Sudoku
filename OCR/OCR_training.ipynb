{
 "metadata": {
  "language_info": {
   "codemirror_mode": {
    "name": "ipython",
    "version": 3
   },
   "file_extension": ".py",
   "mimetype": "text/x-python",
   "name": "python",
   "nbconvert_exporter": "python",
   "pygments_lexer": "ipython3",
   "version": "3.7.6-final"
  },
  "orig_nbformat": 2,
  "kernelspec": {
   "name": "python3",
   "display_name": "Python 3",
   "language": "python"
  }
 },
 "nbformat": 4,
 "nbformat_minor": 2,
 "cells": [
  {
   "source": [
    "# 使用keras完成数字ocr模型的训练"
   ],
   "cell_type": "markdown",
   "metadata": {}
  },
  {
   "source": [
    "## 导入keras工具包"
   ],
   "cell_type": "markdown",
   "metadata": {}
  },
  {
   "source": [
    "- 版本信息：\n",
    "\n",
    "  python == 3.7\n",
    "\n",
    "  TensorFlow == 1.13.1\n",
    "\n",
    "  keras == 2.1.5"
   ],
   "cell_type": "markdown",
   "metadata": {}
  },
  {
   "cell_type": "code",
   "execution_count": 1,
   "metadata": {},
   "outputs": [
    {
     "output_type": "stream",
     "name": "stderr",
     "text": [
      "Using TensorFlow backend.\n"
     ]
    }
   ],
   "source": [
    "from keras.models import Sequential\n",
    "from keras.layers import Convolution2D,MaxPooling2D,Activation,Dropout,Flatten,Dense\n",
    "from keras.optimizers import Adam\n",
    "from keras.preprocessing.image import ImageDataGenerator,img_to_array,load_img"
   ]
  },
  {
   "source": [
    "## 读入数据"
   ],
   "cell_type": "markdown",
   "metadata": {}
  },
  {
   "source": [
    "考虑到原始数据较少，使用数据增强"
   ],
   "cell_type": "markdown",
   "metadata": {}
  },
  {
   "cell_type": "code",
   "execution_count": 2,
   "metadata": {},
   "outputs": [],
   "source": [
    "# 训练集数据增强\n",
    "train_datagen = ImageDataGenerator(\n",
    "    rotation_range = 10,        # 随机旋转度数\n",
    "    width_shift_range = 0.1,    # 随机水平平移\n",
    "    height_shift_range = 0.1,   # 随机竖直平移\n",
    "    rescale = 1/255,            # 数据归一化\n",
    "    shear_range = 10,           # 随机错切变换\n",
    "    zoom_range = 0.1,           # 随机放大\n",
    "    fill_mode = 'nearest',      # 填充方式\n",
    ") \n",
    "\n",
    "# 测试集数据增强\n",
    "test_datagen = ImageDataGenerator(\n",
    "    rescale = 1/255,         # 数据归一化\n",
    ") "
   ]
  },
  {
   "source": [
    "从文件读入数据\n"
   ],
   "cell_type": "markdown",
   "metadata": {}
  },
  {
   "cell_type": "code",
   "execution_count": 3,
   "metadata": {},
   "outputs": [
    {
     "output_type": "stream",
     "name": "stdout",
     "text": [
      "Found 1409 images belonging to 10 classes.\n",
      "Found 997 images belonging to 10 classes.\n"
     ]
    }
   ],
   "source": [
    "# 定义 batch size\n",
    "batch_size = 16\n",
    "\n",
    "# 生成训练数据\n",
    "train_generator = train_datagen.flow_from_directory(\n",
    "    'ocr_data/training',\n",
    "    target_size=(28,28),\n",
    "    color_mode='grayscale',\n",
    "    batch_size=batch_size,\n",
    "    )\n",
    "\n",
    "# 测试数据\n",
    "test_generator = test_datagen.flow_from_directory(\n",
    "    'ocr_data/testing',\n",
    "    target_size=(28,28),\n",
    "    color_mode='grayscale',\n",
    "    batch_size=batch_size,\n",
    "    )"
   ]
  },
  {
   "cell_type": "code",
   "execution_count": 4,
   "metadata": {},
   "outputs": [
    {
     "output_type": "execute_result",
     "data": {
      "text/plain": [
       "{'0': 0,\n",
       " '1': 1,\n",
       " '2': 2,\n",
       " '3': 3,\n",
       " '4': 4,\n",
       " '5': 5,\n",
       " '6': 6,\n",
       " '7': 7,\n",
       " '8': 8,\n",
       " '9': 9}"
      ]
     },
     "metadata": {},
     "execution_count": 4
    }
   ],
   "source": [
    "train_generator.class_indices"
   ]
  },
  {
   "source": [
    "## 定义神经网络"
   ],
   "cell_type": "markdown",
   "metadata": {}
  },
  {
   "cell_type": "code",
   "execution_count": 5,
   "metadata": {},
   "outputs": [
    {
     "output_type": "stream",
     "name": "stdout",
     "text": [
      "WARNING:tensorflow:From C:\\Users\\Harry\\anaconda3\\lib\\site-packages\\tensorflow\\python\\framework\\op_def_library.py:263: colocate_with (from tensorflow.python.framework.ops) is deprecated and will be removed in a future version.\n",
      "Instructions for updating:\n",
      "Colocations handled automatically by placer.\n",
      "WARNING:tensorflow:From C:\\Users\\Harry\\anaconda3\\lib\\site-packages\\keras\\backend\\tensorflow_backend.py:3138: calling dropout (from tensorflow.python.ops.nn_ops) with keep_prob is deprecated and will be removed in a future version.\n",
      "Instructions for updating:\n",
      "Please use `rate` instead of `keep_prob`. Rate should be set to `rate = 1 - keep_prob`.\n"
     ]
    }
   ],
   "source": [
    "# 定义顺序模型\n",
    "model = Sequential()\n",
    "\n",
    "# 第一个卷积层：output 28*28*32\n",
    "# input_shape 输入平面\n",
    "# filters 卷积核/滤波器个数\n",
    "# kernel_size 卷积窗口大小\n",
    "# strides 步长\n",
    "# padding padding方式 same/valid\n",
    "# activation 激活函数\n",
    "model.add(Convolution2D(\n",
    "    input_shape = (28,28,1),\n",
    "    filters = 32,       # 卷积核的个数\n",
    "    kernel_size = 5,\n",
    "    strides = 1,\n",
    "    padding = 'same',\n",
    "    activation = 'relu'\n",
    "))\n",
    "# 第一个池化层：output 14*14*32\n",
    "model.add(MaxPooling2D(\n",
    "    pool_size = 2,\n",
    "    strides = 2,\n",
    "    padding = 'same',\n",
    "))\n",
    "# 第二个卷积层：output 14*14*64（每个卷积核对前面的32张特征图求一个新的卷积）\n",
    "model.add(Convolution2D(64,5,strides=1,padding='same',activation = 'relu'))\n",
    "# 第二个池化层：output 7*7*64\n",
    "model.add(MaxPooling2D(2,2,'same'))\n",
    "# 把第二个池化层的输出扁平化为1维：output：3316（一维向量）\n",
    "model.add(Flatten())\n",
    "# 第一个全连接层：output：1024（一维向量）\n",
    "model.add(Dense(1024,activation = 'relu'))\n",
    "# Dropout\n",
    "model.add(Dropout(0.5))\n",
    "# 第二个全连接层：output：10（一维向量）\n",
    "model.add(Dense(10,activation='softmax'))\n",
    "\n",
    "# 定义优化器\n",
    "adam = Adam(lr=1e-4)\n",
    "\n",
    "# 定义优化器，loss function，训练过程中计算准确率\n",
    "model.compile(optimizer=adam,loss='categorical_crossentropy',metrics=['accuracy'])"
   ]
  },
  {
   "source": [
    "## 训练模型并评估\n"
   ],
   "cell_type": "markdown",
   "metadata": {}
  },
  {
   "source": [
    "由于进行了数据增强，在训练集上准确率较低，但是，会提高在测试集上的准确性，增强模型鲁棒性"
   ],
   "cell_type": "markdown",
   "metadata": {}
  },
  {
   "cell_type": "code",
   "execution_count": 6,
   "metadata": {},
   "outputs": [
    {
     "output_type": "stream",
     "name": "stdout",
     "text": [
      "WARNING:tensorflow:From C:\\Users\\Harry\\anaconda3\\lib\\site-packages\\tensorflow\\python\\ops\\math_ops.py:3066: to_int32 (from tensorflow.python.ops.math_ops) is deprecated and will be removed in a future version.\n",
      "Instructions for updating:\n",
      "Use tf.cast instead.\n",
      "Epoch 1/50\n",
      "89/89 [==============================] - 8s 85ms/step - loss: 2.2859 - acc: 0.1320 - val_loss: 2.2177 - val_acc: 0.1374\n",
      "Epoch 2/50\n",
      "89/89 [==============================] - 7s 80ms/step - loss: 2.1136 - acc: 0.2704 - val_loss: 1.9911 - val_acc: 0.5426\n",
      "Epoch 3/50\n",
      "89/89 [==============================] - 7s 83ms/step - loss: 1.8383 - acc: 0.3554 - val_loss: 1.6435 - val_acc: 0.6369\n",
      "Epoch 4/50\n",
      "89/89 [==============================] - 7s 80ms/step - loss: 1.6069 - acc: 0.4404 - val_loss: 1.3754 - val_acc: 0.6499\n",
      "Epoch 5/50\n",
      "89/89 [==============================] - 7s 79ms/step - loss: 1.3634 - acc: 0.5344 - val_loss: 1.1396 - val_acc: 0.7442\n",
      "Epoch 6/50\n",
      "89/89 [==============================] - 7s 83ms/step - loss: 1.2567 - acc: 0.5765 - val_loss: 0.9329 - val_acc: 0.8666\n",
      "Epoch 7/50\n",
      "89/89 [==============================] - 8s 85ms/step - loss: 1.1324 - acc: 0.6236 - val_loss: 0.8787 - val_acc: 0.8325\n",
      "Epoch 8/50\n",
      "89/89 [==============================] - 7s 84ms/step - loss: 1.0079 - acc: 0.6707 - val_loss: 0.6657 - val_acc: 0.8546\n",
      "Epoch 9/50\n",
      "89/89 [==============================] - 7s 80ms/step - loss: 0.8889 - acc: 0.7099 - val_loss: 0.5759 - val_acc: 0.8726\n",
      "Epoch 10/50\n",
      "89/89 [==============================] - 7s 83ms/step - loss: 0.8178 - acc: 0.7479 - val_loss: 0.4703 - val_acc: 0.9178\n",
      "Epoch 11/50\n",
      "89/89 [==============================] - 7s 80ms/step - loss: 0.7568 - acc: 0.7557 - val_loss: 0.4111 - val_acc: 0.9448\n",
      "Epoch 12/50\n",
      "89/89 [==============================] - 7s 80ms/step - loss: 0.6414 - acc: 0.8012 - val_loss: 0.3032 - val_acc: 0.9569\n",
      "Epoch 13/50\n",
      "89/89 [==============================] - 7s 80ms/step - loss: 0.5564 - acc: 0.8378 - val_loss: 0.2857 - val_acc: 0.9599\n",
      "Epoch 14/50\n",
      "89/89 [==============================] - 7s 80ms/step - loss: 0.4949 - acc: 0.8567 - val_loss: 0.2402 - val_acc: 0.9529\n",
      "Epoch 15/50\n",
      "89/89 [==============================] - 7s 80ms/step - loss: 0.4852 - acc: 0.8588 - val_loss: 0.1884 - val_acc: 0.9819\n",
      "Epoch 16/50\n",
      "89/89 [==============================] - 7s 80ms/step - loss: 0.4299 - acc: 0.8792 - val_loss: 0.1649 - val_acc: 0.9809\n",
      "Epoch 17/50\n",
      "89/89 [==============================] - 7s 80ms/step - loss: 0.3643 - acc: 0.9052 - val_loss: 0.1364 - val_acc: 0.9880\n",
      "Epoch 18/50\n",
      "89/89 [==============================] - 7s 80ms/step - loss: 0.3460 - acc: 0.9073 - val_loss: 0.1210 - val_acc: 0.9890\n",
      "Epoch 19/50\n",
      "89/89 [==============================] - 7s 81ms/step - loss: 0.2990 - acc: 0.9270 - val_loss: 0.1037 - val_acc: 0.9930\n",
      "Epoch 20/50\n",
      "89/89 [==============================] - 7s 80ms/step - loss: 0.2902 - acc: 0.9284 - val_loss: 0.1058 - val_acc: 0.9910\n",
      "Epoch 21/50\n",
      "89/89 [==============================] - 7s 81ms/step - loss: 0.2691 - acc: 0.9298 - val_loss: 0.0717 - val_acc: 0.9940\n",
      "Epoch 22/50\n",
      "89/89 [==============================] - 7s 80ms/step - loss: 0.2248 - acc: 0.9459 - val_loss: 0.0673 - val_acc: 0.9920\n",
      "Epoch 23/50\n",
      "89/89 [==============================] - 7s 80ms/step - loss: 0.2032 - acc: 0.9473 - val_loss: 0.0602 - val_acc: 0.9960\n",
      "Epoch 24/50\n",
      "89/89 [==============================] - 7s 80ms/step - loss: 0.1843 - acc: 0.9579 - val_loss: 0.0552 - val_acc: 0.9940\n",
      "Epoch 25/50\n",
      "89/89 [==============================] - 7s 81ms/step - loss: 0.1699 - acc: 0.9656 - val_loss: 0.0564 - val_acc: 0.9910\n",
      "Epoch 26/50\n",
      "89/89 [==============================] - 7s 80ms/step - loss: 0.1556 - acc: 0.9614 - val_loss: 0.0509 - val_acc: 0.9950\n",
      "Epoch 27/50\n",
      "89/89 [==============================] - 7s 80ms/step - loss: 0.1658 - acc: 0.9635 - val_loss: 0.0415 - val_acc: 0.9960\n",
      "Epoch 28/50\n",
      "89/89 [==============================] - 7s 80ms/step - loss: 0.1379 - acc: 0.9684 - val_loss: 0.0333 - val_acc: 0.9990\n",
      "Epoch 29/50\n",
      "89/89 [==============================] - 7s 81ms/step - loss: 0.1399 - acc: 0.9712 - val_loss: 0.0311 - val_acc: 0.9990\n",
      "Epoch 30/50\n",
      "89/89 [==============================] - 7s 82ms/step - loss: 0.1282 - acc: 0.9698 - val_loss: 0.0315 - val_acc: 0.9980\n",
      "Epoch 31/50\n",
      "89/89 [==============================] - 7s 83ms/step - loss: 0.1168 - acc: 0.9719 - val_loss: 0.0283 - val_acc: 0.9980\n",
      "Epoch 32/50\n",
      "89/89 [==============================] - 7s 80ms/step - loss: 0.1146 - acc: 0.9754 - val_loss: 0.0264 - val_acc: 0.9990\n",
      "Epoch 33/50\n",
      "89/89 [==============================] - 7s 81ms/step - loss: 0.1116 - acc: 0.9740 - val_loss: 0.0241 - val_acc: 0.9980\n",
      "Epoch 34/50\n",
      "89/89 [==============================] - 7s 79ms/step - loss: 0.0922 - acc: 0.9803 - val_loss: 0.0194 - val_acc: 0.9980\n",
      "Epoch 35/50\n",
      "89/89 [==============================] - 7s 81ms/step - loss: 0.0913 - acc: 0.9796 - val_loss: 0.0185 - val_acc: 0.9990\n",
      "Epoch 36/50\n",
      "89/89 [==============================] - 7s 80ms/step - loss: 0.0902 - acc: 0.9789 - val_loss: 0.0201 - val_acc: 0.9970\n",
      "Epoch 37/50\n",
      "89/89 [==============================] - 7s 80ms/step - loss: 0.0789 - acc: 0.9831 - val_loss: 0.0196 - val_acc: 0.9980\n",
      "Epoch 38/50\n",
      "89/89 [==============================] - 7s 81ms/step - loss: 0.0775 - acc: 0.9803 - val_loss: 0.0177 - val_acc: 1.0000\n",
      "Epoch 39/50\n",
      "89/89 [==============================] - 7s 80ms/step - loss: 0.0749 - acc: 0.9860 - val_loss: 0.0161 - val_acc: 0.9980\n",
      "Epoch 40/50\n",
      "89/89 [==============================] - 7s 79ms/step - loss: 0.0588 - acc: 0.9916 - val_loss: 0.0137 - val_acc: 0.9990\n",
      "Epoch 41/50\n",
      "89/89 [==============================] - 7s 79ms/step - loss: 0.0968 - acc: 0.9727 - val_loss: 0.1381 - val_acc: 0.9488\n",
      "Epoch 42/50\n",
      "89/89 [==============================] - 7s 80ms/step - loss: 0.0810 - acc: 0.9803 - val_loss: 0.0181 - val_acc: 0.9980\n",
      "Epoch 43/50\n",
      "89/89 [==============================] - 7s 80ms/step - loss: 0.0712 - acc: 0.9853 - val_loss: 0.0146 - val_acc: 1.0000\n",
      "Epoch 44/50\n",
      "89/89 [==============================] - 7s 80ms/step - loss: 0.0606 - acc: 0.9860 - val_loss: 0.0111 - val_acc: 1.0000\n",
      "Epoch 45/50\n",
      "89/89 [==============================] - 7s 80ms/step - loss: 0.0520 - acc: 0.9909 - val_loss: 0.0121 - val_acc: 1.0000\n",
      "Epoch 46/50\n",
      "89/89 [==============================] - 7s 80ms/step - loss: 0.0499 - acc: 0.9888 - val_loss: 0.0123 - val_acc: 0.9990\n",
      "Epoch 47/50\n",
      "89/89 [==============================] - 7s 80ms/step - loss: 0.0554 - acc: 0.9888 - val_loss: 0.0114 - val_acc: 0.9990\n",
      "Epoch 48/50\n",
      "89/89 [==============================] - 7s 81ms/step - loss: 0.0613 - acc: 0.9831 - val_loss: 0.0122 - val_acc: 0.9980\n",
      "Epoch 49/50\n",
      "89/89 [==============================] - 7s 81ms/step - loss: 0.0439 - acc: 0.9902 - val_loss: 0.0105 - val_acc: 0.9990\n",
      "Epoch 50/50\n",
      "89/89 [==============================] - 7s 80ms/step - loss: 0.0355 - acc: 0.9965 - val_loss: 0.0083 - val_acc: 1.0000\n"
     ]
    },
    {
     "output_type": "execute_result",
     "data": {
      "text/plain": [
       "<keras.callbacks.History at 0x19eb8268e88>"
      ]
     },
     "metadata": {},
     "execution_count": 6
    }
   ],
   "source": [
    "model.fit_generator(train_generator,steps_per_epoch=len(train_generator),epochs=50,validation_data=test_generator,validation_steps=len(test_generator))"
   ]
  },
  {
   "source": [
    "## 模型保存"
   ],
   "cell_type": "markdown",
   "metadata": {}
  },
  {
   "cell_type": "code",
   "execution_count": 8,
   "metadata": {},
   "outputs": [],
   "source": [
    "model.save('number_ocr.h5')"
   ]
  },
  {
   "cell_type": "code",
   "execution_count": null,
   "metadata": {},
   "outputs": [],
   "source": []
  }
 ]
}