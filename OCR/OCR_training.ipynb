{
 "cells": [
  {
   "cell_type": "markdown",
   "metadata": {},
   "source": [
    "# 使用keras完成数字ocr模型的训练"
   ]
  },
  {
   "cell_type": "markdown",
   "metadata": {},
   "source": [
    "## 导入keras工具包"
   ]
  },
  {
   "cell_type": "markdown",
   "metadata": {},
   "source": [
    "- 版本信息：\n",
    "\n",
    "  python == 3.7\n",
    "\n",
    "  TensorFlow == 1.13.1\n",
    "\n",
    "  keras == 2.1.5"
   ]
  },
  {
   "cell_type": "code",
   "execution_count": 10,
   "metadata": {},
   "outputs": [],
   "source": [
    "from keras.models import Sequential,load_model\n",
    "from keras.layers import Convolution2D,MaxPooling2D,Activation,Dropout,Flatten,Dense\n",
    "from keras.optimizers import Adam\n",
    "from keras.preprocessing.image import ImageDataGenerator,img_to_array,load_img"
   ]
  },
  {
   "cell_type": "markdown",
   "metadata": {},
   "source": [
    "## 读入数据"
   ]
  },
  {
   "cell_type": "markdown",
   "metadata": {},
   "source": [
    "考虑到原始数据较少，使用数据增强"
   ]
  },
  {
   "cell_type": "code",
   "execution_count": 11,
   "metadata": {},
   "outputs": [],
   "source": [
    "# 训练集数据增强\n",
    "train_datagen = ImageDataGenerator(\n",
    "#     rotation_range = 10,        # 随机旋转度数\n",
    "#     width_shift_range = 0.1,    # 随机水平平移\n",
    "#     height_shift_range = 0.1,   # 随机竖直平移\n",
    "    rescale = 1/255,            # 数据归一化\n",
    "#     shear_range = 10,           # 随机错切变换\n",
    "#     zoom_range = 0.1,           # 随机放大\n",
    "#     fill_mode = 'nearest',      # 填充方式\n",
    ") \n",
    "\n",
    "# 测试集数据增强\n",
    "test_datagen = ImageDataGenerator(\n",
    "    rescale = 1/255,         # 数据归一化\n",
    ") "
   ]
  },
  {
   "cell_type": "markdown",
   "metadata": {},
   "source": [
    "从文件读入数据\n"
   ]
  },
  {
   "cell_type": "code",
   "execution_count": 12,
   "metadata": {},
   "outputs": [
    {
     "name": "stdout",
     "output_type": "stream",
     "text": [
      "Found 1409 images belonging to 10 classes.\n",
      "Found 997 images belonging to 10 classes.\n"
     ]
    }
   ],
   "source": [
    "# 定义 batch size\n",
    "batch_size = 16\n",
    "\n",
    "# 生成训练数据\n",
    "train_generator = train_datagen.flow_from_directory(\n",
    "    'OCR_data/training',\n",
    "    target_size=(28,28),\n",
    "    color_mode='grayscale',\n",
    "    batch_size=batch_size,\n",
    "    )\n",
    "\n",
    "# 测试数据\n",
    "test_generator = test_datagen.flow_from_directory(\n",
    "    'OCR_data/testing',\n",
    "    target_size=(28,28),\n",
    "    color_mode='grayscale',\n",
    "    batch_size=batch_size,\n",
    "    )"
   ]
  },
  {
   "cell_type": "code",
   "execution_count": 13,
   "metadata": {},
   "outputs": [
    {
     "data": {
      "text/plain": [
       "{'0': 0,\n",
       " '1': 1,\n",
       " '2': 2,\n",
       " '3': 3,\n",
       " '4': 4,\n",
       " '5': 5,\n",
       " '6': 6,\n",
       " '7': 7,\n",
       " '8': 8,\n",
       " '9': 9}"
      ]
     },
     "execution_count": 13,
     "metadata": {},
     "output_type": "execute_result"
    }
   ],
   "source": [
    "train_generator.class_indices"
   ]
  },
  {
   "cell_type": "markdown",
   "metadata": {},
   "source": [
    "## 定义神经网络"
   ]
  },
  {
   "cell_type": "code",
   "execution_count": 14,
   "metadata": {},
   "outputs": [],
   "source": [
    "# 定义顺序模型\n",
    "model = Sequential()\n",
    "\n",
    "# 第一个卷积层：output 28*28*32\n",
    "# input_shape 输入平面\n",
    "# filters 卷积核/滤波器个数\n",
    "# kernel_size 卷积窗口大小\n",
    "# strides 步长\n",
    "# padding padding方式 same/valid\n",
    "# activation 激活函数\n",
    "model.add(Convolution2D(\n",
    "    input_shape = (28,28,1),\n",
    "    filters = 32,       # 卷积核的个数\n",
    "    kernel_size = 5,\n",
    "    strides = 1,\n",
    "    padding = 'same',\n",
    "    activation = 'relu'\n",
    "))\n",
    "# 第一个池化层：output 14*14*32\n",
    "model.add(MaxPooling2D(\n",
    "    pool_size = 2,\n",
    "    strides = 2,\n",
    "    padding = 'same',\n",
    "))\n",
    "# 第二个卷积层：output 14*14*64（每个卷积核对前面的32张特征图求一个新的卷积）\n",
    "model.add(Convolution2D(64,5,strides=1,padding='same',activation = 'relu'))\n",
    "# 第二个池化层：output 7*7*64\n",
    "model.add(MaxPooling2D(2,2,'same'))\n",
    "# 把第二个池化层的输出扁平化为1维：output：3316（一维向量）\n",
    "model.add(Flatten())\n",
    "# 第一个全连接层：output：1024（一维向量）\n",
    "model.add(Dense(1024,activation = 'relu'))\n",
    "# Dropout\n",
    "model.add(Dropout(0.5))\n",
    "# 第二个全连接层：output：10（一维向量）\n",
    "model.add(Dense(10,activation='softmax'))\n",
    "\n",
    "# 定义优化器\n",
    "adam = Adam(lr=1e-4)\n",
    "\n",
    "# 定义优化器，loss function，训练过程中计算准确率\n",
    "model.compile(optimizer=adam,loss='categorical_crossentropy',metrics=['accuracy'])"
   ]
  },
  {
   "cell_type": "markdown",
   "metadata": {},
   "source": [
    "## 训练模型并评估\n"
   ]
  },
  {
   "cell_type": "markdown",
   "metadata": {},
   "source": [
    "由于进行了数据增强，在训练集上准确率较低，但是，会提高在测试集上的准确性，增强模型鲁棒性"
   ]
  },
  {
   "cell_type": "code",
   "execution_count": 15,
   "metadata": {},
   "outputs": [
    {
     "name": "stdout",
     "output_type": "stream",
     "text": [
      "Epoch 1/15\n",
      "89/89 [==============================] - 7s 82ms/step - loss: 2.1509 - acc: 0.3019 - val_loss: 1.9163 - val_acc: 0.7041\n",
      "Epoch 2/15\n",
      "89/89 [==============================] - 7s 75ms/step - loss: 1.3601 - acc: 0.6882 - val_loss: 0.8765 - val_acc: 0.8164\n",
      "Epoch 3/15\n",
      "89/89 [==============================] - 7s 76ms/step - loss: 0.5987 - acc: 0.8652 - val_loss: 0.4077 - val_acc: 0.9619\n",
      "Epoch 4/15\n",
      "89/89 [==============================] - 7s 75ms/step - loss: 0.3338 - acc: 0.9220 - val_loss: 0.2402 - val_acc: 0.9589\n",
      "Epoch 5/15\n",
      "89/89 [==============================] - 7s 75ms/step - loss: 0.1996 - acc: 0.9536 - val_loss: 0.1455 - val_acc: 0.9799\n",
      "Epoch 6/15\n",
      "89/89 [==============================] - 7s 75ms/step - loss: 0.1398 - acc: 0.9733 - val_loss: 0.1059 - val_acc: 0.9819\n",
      "Epoch 7/15\n",
      "89/89 [==============================] - 7s 75ms/step - loss: 0.1015 - acc: 0.9803 - val_loss: 0.0885 - val_acc: 0.9850\n",
      "Epoch 8/15\n",
      "89/89 [==============================] - 7s 75ms/step - loss: 0.0819 - acc: 0.9881 - val_loss: 0.0824 - val_acc: 0.9759\n",
      "Epoch 9/15\n",
      "89/89 [==============================] - 7s 75ms/step - loss: 0.0698 - acc: 0.9902 - val_loss: 0.0591 - val_acc: 0.9900\n",
      "Epoch 10/15\n",
      "89/89 [==============================] - 7s 75ms/step - loss: 0.0483 - acc: 0.9902 - val_loss: 0.0462 - val_acc: 0.9930\n",
      "Epoch 11/15\n",
      "89/89 [==============================] - 7s 75ms/step - loss: 0.0393 - acc: 0.9944 - val_loss: 0.0481 - val_acc: 0.9900\n",
      "Epoch 12/15\n",
      "89/89 [==============================] - 7s 75ms/step - loss: 0.0293 - acc: 0.9979 - val_loss: 0.0395 - val_acc: 0.9940\n",
      "Epoch 13/15\n",
      "89/89 [==============================] - 7s 75ms/step - loss: 0.0288 - acc: 0.9958 - val_loss: 0.0412 - val_acc: 0.9940\n",
      "Epoch 14/15\n",
      "89/89 [==============================] - 7s 75ms/step - loss: 0.0241 - acc: 0.9972 - val_loss: 0.0513 - val_acc: 0.9880\n",
      "Epoch 15/15\n",
      "89/89 [==============================] - 7s 75ms/step - loss: 0.0186 - acc: 0.9993 - val_loss: 0.0360 - val_acc: 0.9930\n"
     ]
    },
    {
     "data": {
      "text/plain": [
       "<keras.callbacks.History at 0x1de1fe72148>"
      ]
     },
     "execution_count": 15,
     "metadata": {},
     "output_type": "execute_result"
    }
   ],
   "source": [
    "model.fit_generator(train_generator,steps_per_epoch=len(train_generator),epochs=15,validation_data=test_generator,validation_steps=len(test_generator))"
   ]
  },
  {
   "cell_type": "markdown",
   "metadata": {},
   "source": [
    "## 模型保存"
   ]
  },
  {
   "cell_type": "code",
   "execution_count": 8,
   "metadata": {},
   "outputs": [],
   "source": [
    "model.save('number_ocr.h5')"
   ]
  },
  {
   "cell_type": "code",
   "execution_count": 9,
   "metadata": {},
   "outputs": [
    {
     "name": "stdout",
     "output_type": "stream",
     "text": [
      "_________________________________________________________________\n",
      "Layer (type)                 Output Shape              Param #   \n",
      "=================================================================\n",
      "conv2d_1 (Conv2D)            (None, 28, 28, 32)        832       \n",
      "_________________________________________________________________\n",
      "max_pooling2d_1 (MaxPooling2 (None, 14, 14, 32)        0         \n",
      "_________________________________________________________________\n",
      "conv2d_2 (Conv2D)            (None, 14, 14, 64)        51264     \n",
      "_________________________________________________________________\n",
      "max_pooling2d_2 (MaxPooling2 (None, 7, 7, 64)          0         \n",
      "_________________________________________________________________\n",
      "flatten_1 (Flatten)          (None, 3136)              0         \n",
      "_________________________________________________________________\n",
      "dense_1 (Dense)              (None, 1024)              3212288   \n",
      "_________________________________________________________________\n",
      "dropout_1 (Dropout)          (None, 1024)              0         \n",
      "_________________________________________________________________\n",
      "dense_2 (Dense)              (None, 10)                10250     \n",
      "=================================================================\n",
      "Total params: 3,274,634\n",
      "Trainable params: 3,274,634\n",
      "Non-trainable params: 0\n",
      "_________________________________________________________________\n"
     ]
    }
   ],
   "source": [
    "model = load_model('number_ocr.h5')\n",
    "model.summary()"
   ]
  },
  {
   "cell_type": "code",
   "execution_count": null,
   "metadata": {},
   "outputs": [],
   "source": []
  }
 ],
 "metadata": {
  "kernelspec": {
   "display_name": "Python 3",
   "language": "python",
   "name": "python3"
  },
  "language_info": {
   "codemirror_mode": {
    "name": "ipython",
    "version": 3
   },
   "file_extension": ".py",
   "mimetype": "text/x-python",
   "name": "python",
   "nbconvert_exporter": "python",
   "pygments_lexer": "ipython3",
   "version": "3.7.6"
  }
 },
 "nbformat": 4,
 "nbformat_minor": 4
}
