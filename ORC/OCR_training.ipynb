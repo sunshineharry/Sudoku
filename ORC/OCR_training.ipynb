{
 "metadata": {
  "language_info": {
   "codemirror_mode": {
    "name": "ipython",
    "version": 3
   },
   "file_extension": ".py",
   "mimetype": "text/x-python",
   "name": "python",
   "nbconvert_exporter": "python",
   "pygments_lexer": "ipython3",
   "version": "3.7.6-final"
  },
  "orig_nbformat": 2,
  "kernelspec": {
   "name": "python3",
   "display_name": "Python 3",
   "language": "python"
  }
 },
 "nbformat": 4,
 "nbformat_minor": 2,
 "cells": [
  {
   "source": [
    "# 使用keras完成数字ocr模型的训练"
   ],
   "cell_type": "markdown",
   "metadata": {}
  },
  {
   "source": [
    "## 导入keras工具包"
   ],
   "cell_type": "markdown",
   "metadata": {}
  },
  {
   "source": [
    "- 版本信息：\n",
    "\n",
    "  python == 3.7\n",
    "\n",
    "  TensorFlow == 1.13.1\n",
    "\n",
    "  keras == 2.1.5"
   ],
   "cell_type": "markdown",
   "metadata": {}
  },
  {
   "cell_type": "code",
   "execution_count": null,
   "metadata": {},
   "outputs": [],
   "source": [
    "from keras.models import Sequential\n",
    "from keras.layers import Convolution2D,MaxPooling2D,Activation,Dropout,Flatten,Dense\n",
    "from keras.optimizers import Adam\n",
    "from keras.preprocessing.image import ImageDataGenerator,img_to_array,load_img"
   ]
  },
  {
   "source": [
    "## 读入数据"
   ],
   "cell_type": "markdown",
   "metadata": {}
  },
  {
   "source": [
    "考虑到原始数据较少，使用数据增强"
   ],
   "cell_type": "markdown",
   "metadata": {}
  },
  {
   "cell_type": "code",
   "execution_count": null,
   "metadata": {},
   "outputs": [],
   "source": [
    "# 训练集数据增强\n",
    "train_datagen = ImageDataGenerator(\n",
    "    rotation_range = 10,        # 随机旋转度数\n",
    "    width_shift_range = 0.1,    # 随机水平平移\n",
    "    height_shift_range = 0.1,   # 随机竖直平移\n",
    "    rescale = 1/255,            # 数据归一化\n",
    "    shear_range = 10,           # 随机错切变换\n",
    "    zoom_range = 0.1,           # 随机放大\n",
    "    fill_mode = 'nearest',      # 填充方式\n",
    ") \n",
    "\n",
    "# 测试集数据增强\n",
    "test_datagen = ImageDataGenerator(\n",
    "    rescale = 1/255,         # 数据归一化\n",
    ") "
   ]
  },
  {
   "source": [
    "从文件读入数据\n"
   ],
   "cell_type": "markdown",
   "metadata": {}
  },
  {
   "cell_type": "code",
   "execution_count": null,
   "metadata": {},
   "outputs": [],
   "source": [
    "# 定义 batch size\n",
    "batch_size = 16\n",
    "\n",
    "# 生成训练数据\n",
    "train_generator = train_datagen.flow_from_directory(\n",
    "    'ocr_data/training',\n",
    "    target_size=(28,28),\n",
    "    color_mode='grayscale',\n",
    "    batch_size=batch_size,\n",
    "    )\n",
    "\n",
    "# 测试数据\n",
    "test_generator = test_datagen.flow_from_directory(\n",
    "    'ocr_data/testing',\n",
    "    target_size=(28,28),\n",
    "    color_mode='grayscale',\n",
    "    batch_size=batch_size,\n",
    "    )"
   ]
  },
  {
   "cell_type": "code",
   "execution_count": null,
   "metadata": {},
   "outputs": [],
   "source": [
    "train_generator.class_indices"
   ]
  },
  {
   "source": [
    "## 定义神经网络"
   ],
   "cell_type": "markdown",
   "metadata": {}
  },
  {
   "cell_type": "code",
   "execution_count": null,
   "metadata": {},
   "outputs": [],
   "source": [
    "# 定义顺序模型\n",
    "model = Sequential()\n",
    "\n",
    "# 第一个卷积层：output 28*28*32\n",
    "# input_shape 输入平面\n",
    "# filters 卷积核/滤波器个数\n",
    "# kernel_size 卷积窗口大小\n",
    "# strides 步长\n",
    "# padding padding方式 same/valid\n",
    "# activation 激活函数\n",
    "model.add(Convolution2D(\n",
    "    input_shape = (28,28,1),\n",
    "    filters = 32,       # 卷积核的个数\n",
    "    kernel_size = 5,\n",
    "    strides = 1,\n",
    "    padding = 'same',\n",
    "    activation = 'relu'\n",
    "))\n",
    "# 第一个池化层：output 14*14*32\n",
    "model.add(MaxPooling2D(\n",
    "    pool_size = 2,\n",
    "    strides = 2,\n",
    "    padding = 'same',\n",
    "))\n",
    "# 第二个卷积层：output 14*14*64（每个卷积核对前面的32张特征图求一个新的卷积）\n",
    "model.add(Convolution2D(64,5,strides=1,padding='same',activation = 'relu'))\n",
    "# 第二个池化层：output 7*7*64\n",
    "model.add(MaxPooling2D(2,2,'same'))\n",
    "# 把第二个池化层的输出扁平化为1维：output：3316（一维向量）\n",
    "model.add(Flatten())\n",
    "# 第一个全连接层：output：1024（一维向量）\n",
    "model.add(Dense(1024,activation = 'relu'))\n",
    "# Dropout\n",
    "model.add(Dropout(0.5))\n",
    "# 第二个全连接层：output：10（一维向量）\n",
    "model.add(Dense(10,activation='softmax'))\n",
    "\n",
    "# 定义优化器\n",
    "adam = Adam(lr=1e-4)\n",
    "\n",
    "# 定义优化器，loss function，训练过程中计算准确率\n",
    "model.compile(optimizer=adam,loss='categorical_crossentropy',metrics=['accuracy'])"
   ]
  },
  {
   "source": [
    "## 训练模型并评估\n"
   ],
   "cell_type": "markdown",
   "metadata": {}
  },
  {
   "cell_type": "code",
   "execution_count": null,
   "metadata": {},
   "outputs": [],
   "source": [
    "model.fit_generator(train_generator,steps_per_epoch=len(train_generator),epochs=18,validation_data=test_generator,validation_steps=len(test_generator))"
   ]
  },
  {
   "source": [
    "## 模型保存"
   ],
   "cell_type": "markdown",
   "metadata": {}
  },
  {
   "cell_type": "code",
   "execution_count": null,
   "metadata": {},
   "outputs": [],
   "source": [
    "model.save('number_ocr.h5')"
   ]
  }
 ]
}